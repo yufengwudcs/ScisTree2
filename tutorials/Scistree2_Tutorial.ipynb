{
 "cells": [
  {
   "cell_type": "markdown",
   "metadata": {},
   "source": [
    "# **SciSTree2 Tutorial**\n",
    "\n",
    "This tutorial includes two examples to help you get started with **SciSTree2**:\n",
    "\n",
    "- **Example I**: Running SciSTree2 with your own **probabilistic genotype matrix**.\n",
    "- **Example II**: Running SciSTree2 with **raw read data** as input.\n"
   ]
  },
  {
   "cell_type": "markdown",
   "metadata": {},
   "source": [
    "### **Importing Required Packages**\n",
    "\n",
    "Before running SciSTree2, make sure to import the required libraries:"
   ]
  },
  {
   "cell_type": "code",
   "execution_count": 1,
   "metadata": {},
   "outputs": [],
   "source": [
    "# import packages\n",
    "import scistree2 as s2\n",
    "import numpy as np \n",
    "import pandas as pd"
   ]
  },
  {
   "cell_type": "markdown",
   "metadata": {},
   "source": [
    "### 🧬**Example I: Toy Genotype Probability Matrix**\n",
    "\n",
    "In this example, we provide a small toy dataset where rows represent SNPs and columns represent cells.  \n",
    "Each entry in the matrix denotes the probability of being the **wild type** (reference).\n",
    "\n",
    "This format is suitable when you already have probabilistic genotypes derived from upstream processing.\n"
   ]
  },
  {
   "cell_type": "markdown",
   "metadata": {},
   "source": [
    "We invoke **SciSTree2** with **SPR (Subtree Prune and Regraft)** local search on a small toy dataset consisting of 5 cells and 6 SNPs.\n",
    "\n",
    "The input should be a `numpy.ndarray` where:\n",
    "- **Rows** represent **SNPs**\n",
    "- **Columns** represent **cells**\n",
    "- Each entry contains the **probability of being wild type** (i.e., the reference allele)\n",
    "\n",
    "\n",
    "|             | cell1 | cell2 | cell3 | cell4 | cell5 |\n",
    "|:-----------:|:-----:|:-----:|:-----:|:-----:|:-----:|\n",
    "| **snp1**    | 0.01  | 0.60  | 0.08  | 0.80  | 0.70  |\n",
    "| **snp2**    | 0.80  | 0.02  | 0.70  | 0.01  | 0.30  |\n",
    "| **snp3**    | 0.02  | 0.80  | 0.02  | 0.80  | 0.90  |\n",
    "| **snp4**    | 0.90  | 0.90  | 0.80  | 0.80  | 0.02  |\n",
    "| **snp5**    | 0.01  | 0.80  | 0.01  | 0.80  | 0.90  |\n",
    "| **snp6**    | 0.05  | 0.02  | 0.70  | 0.05  | 0.90  |\n"
   ]
  },
  {
   "cell_type": "code",
   "execution_count": 2,
   "metadata": {},
   "outputs": [],
   "source": [
    "prob = np.array([[0.01, 0.6, 0.08, 0.8, 0.7],\n",
    "                 [0.8, 0.02, 0.7, 0.01, 0.3],\n",
    "                 [0.02, 0.8, 0.02, 0.8, 0.9],\n",
    "                 [0.9, 0.9, 0.8, 0.8, 0.02],\n",
    "                 [0.01, 0.8, 0.01, 0.8, 0.9],\n",
    "                 [0.05, 0.02, 0.7, 0.05, 0.9]]) "
   ]
  },
  {
   "cell_type": "markdown",
   "metadata": {},
   "source": [
    "Next, we initialize a **SciSTree2** caller with **SPR local search** enabled and set the number of threads to 8.\n",
    "\n",
    "After calling the `infer` method, SciSTree2 returns:\n",
    "- The **imputed genotype** (binary matrix)\n",
    "- The **inferred tree** in **Newick format**\n",
    "- The corresponding **log-likelihood** of the tree\n"
   ]
  },
  {
   "cell_type": "code",
   "execution_count": 3,
   "metadata": {},
   "outputs": [
    {
     "name": "stdout",
     "output_type": "stream",
     "text": [
      "Imputed genotype from SPR: \n",
      " [[1 0 1 0 0]\n",
      " [0 1 0 1 0]\n",
      " [1 0 1 0 0]\n",
      " [0 0 0 0 1]\n",
      " [1 0 1 0 0]\n",
      " [1 1 1 1 0]]\n",
      "Newick of the SPR tree:  (((1,3),(2,4)),5);\n",
      "Likelihood of the SPR tree:  -6.27126\n"
     ]
    }
   ],
   "source": [
    "caller = s2.ScisTree2(threads=8) # use 8 threads\n",
    "imputed_genotype, tree, likelihood = caller.infer(prob) # run Scistree2 inference\n",
    "print('Imputed genotype from SPR: \\n', imputed_genotype)\n",
    "print('Newick of the SPR tree: ', tree)\n",
    "print('Likelihood of the SPR tree: ', likelihood)"
   ]
  },
  {
   "cell_type": "markdown",
   "metadata": {},
   "source": [
    "We can also replace **SPR** (Subtree Prune and Regraft) local search with **NNI** (Nearest Neighbor Interchange) by setting `nni=True`.\n",
    "\n",
    "> ℹ️**Note:** Using **NNI** typically **speeds up the algorithm** but may result in **lower accuracy** compared to **SPR**. NNI is recommended when a faster approximation is needed, especially for **large datasets**.\n"
   ]
  },
  {
   "cell_type": "code",
   "execution_count": 4,
   "metadata": {},
   "outputs": [
    {
     "name": "stdout",
     "output_type": "stream",
     "text": [
      "Imputed genotype from NNI: \n",
      " [[1 0 1 0 0]\n",
      " [0 1 0 1 0]\n",
      " [1 0 1 0 0]\n",
      " [0 0 0 0 1]\n",
      " [1 0 1 0 0]\n",
      " [1 1 1 1 0]]\n",
      "Newick of the NNI tree:  (((1,3),(2,4)),5);\n",
      "Likelihood of the NNI tree:  -6.27126\n"
     ]
    }
   ],
   "source": [
    "caller_nni = s2.ScisTree2(threads=8, nni=True)\n",
    "imputed_genotype_nni, tree_nni, likelihood_nni = caller_nni.infer(prob)\n",
    "print('Imputed genotype from NNI: \\n', imputed_genotype_nni)\n",
    "print('Newick of the NNI tree: ', tree_nni)\n",
    "print('Likelihood of the NNI tree: ', likelihood_nni)"
   ]
  },
  {
   "cell_type": "markdown",
   "metadata": {},
   "source": [
    "We may also invoke **SciSTree2** with **Neighbor Joining (NJ)** by setting `nj=True` to obtain **only the initial tree**.\n",
    "\n",
    "In **NJ mode**, no further optimization steps (like SPR or NNI) are performed after constructing the tree.  \n",
    "As a result, there are **no outputs for the imputed genotype or likelihood** by default.\n",
    "\n",
    "However, we can still **evaluate the likelihood** and **obtain the imputed genotype** by calling the `evaluate` method with the NJ tree and genotype matrix.\n",
    "\n",
    "> ℹ️**Note:** In this toy example, **Neighbor Joining** performs quite well and produces a tree close to the optimal.\n"
   ]
  },
  {
   "cell_type": "code",
   "execution_count": 5,
   "metadata": {},
   "outputs": [
    {
     "name": "stdout",
     "output_type": "stream",
     "text": [
      "Imputed genotype from NJ: \n",
      " [[1 0 1 0 0]\n",
      " [0 1 0 1 0]\n",
      " [1 0 1 0 0]\n",
      " [0 0 0 0 1]\n",
      " [1 0 1 0 0]\n",
      " [1 1 1 1 0]]\n",
      "Newick of the NJ tree:  (((1,3),(2,4)),5);\n",
      "Likelihood of the NJ tree:  -6.271255186813891\n"
     ]
    }
   ],
   "source": [
    "caller_nj = s2.ScisTree2(threads=8, nj=True)\n",
    "tree_nj = caller_nj.infer(prob)\n",
    "imputed_genotype_nj, likelihood_nj = caller_nj.evaluate(prob, tree) # evaluate the NJ tree\n",
    "print('Imputed genotype from NJ: \\n', imputed_genotype_nj)\n",
    "print('Newick of the NJ tree: ', tree_nj)\n",
    "print('Likelihood of the NJ tree: ', likelihood_nj)"
   ]
  },
  {
   "cell_type": "markdown",
   "metadata": {},
   "source": [
    "We can also **evaluate a random or alternative tree** using the genotype probability matrix.  \n",
    "Using the same example as before, we evaluate a random tree structure.\n",
    "\n",
    "As expected, the **likelihood** of this alternative tree is **lower** than that of the optimal tree (−6.27)."
   ]
  },
  {
   "cell_type": "code",
   "execution_count": 6,
   "metadata": {},
   "outputs": [
    {
     "name": "stdout",
     "output_type": "stream",
     "text": [
      "Imputed genotype from NJ: \n",
      " [[1 1 1 0 0]\n",
      " [1 1 1 1 1]\n",
      " [1 1 1 0 0]\n",
      " [0 0 0 0 1]\n",
      " [1 1 1 0 0]\n",
      " [1 1 1 1 0]]\n",
      "Newick of the NJ tree:  -10.835603378281727\n",
      "Likelihood of the NJ tree:  ((((1,2),3),4),5);\n"
     ]
    }
   ],
   "source": [
    "random_tree = '((((1,2),3),4),5);'\n",
    "imputed_genotype_random, likelihood_random = caller.evaluate(prob, random_tree)\n",
    "print('Imputed genotype from NJ: \\n', imputed_genotype_random)\n",
    "print('Newick of the NJ tree: ', likelihood_random)\n",
    "print('Likelihood of the NJ tree: ', random_tree)"
   ]
  },
  {
   "cell_type": "markdown",
   "metadata": {},
   "source": [
    "SciSTree2 also provides functionality for **tree visualization**.\n",
    "\n",
    "> ℹ️**Note:** SciSTree2 includes built-in support for visualizing **moderate-size** trees. For **very large trees**, it is recommended to use specialized external tools such as **FigTree**, **iTOL**, or **ETE Toolkit**.\n"
   ]
  },
  {
   "cell_type": "code",
   "execution_count": 7,
   "metadata": {},
   "outputs": [
    {
     "name": "stdout",
     "output_type": "stream",
     "text": [
      "           ┌5\n",
      " 38585c439f┤\n",
      "           │                     ┌4\n",
      "           │          ┌1cdf0d681d┤\n",
      "           │          │          └2\n",
      "           └3355c1757f┤\n",
      "                      │          ┌3\n",
      "                      └158aa854aa┤\n",
      "                                 └1\n"
     ]
    }
   ],
   "source": [
    "t = s2.util.from_newick(tree)\n",
    "t.draw()"
   ]
  },
  {
   "cell_type": "markdown",
   "metadata": {},
   "source": [
    "### 🧬 **Example II: Toy Raw Reads Data**\n",
    "\n",
    "In this dataset, the input format remains a matrix of shape `(num_sites, num_cells)`.  \n",
    "However, instead of using **precomputed genotype probabilities**, **each entry is a tuple** representing raw sequencing read counts.\n",
    "\n",
    "Each tuple has the form: **`(ref_count, alt_count)`**, where:\n",
    "- `ref_count` is the number of reads supporting the **reference (wild type)** allele\n",
    "- `alt_count` is the number of reads supporting the **mutation (alternative)** allele\n",
    "\n",
    "This format is suitable when you start from **raw read counts** rather than inferred genotype probabilities, enabling SciSTree2 to perform **probabilistic genotype modeling** internally before tree inference.\n"
   ]
  },
  {
   "cell_type": "markdown",
   "metadata": {},
   "source": [
    "This dataset, located in the `data` folder, contains **50 cells** and **100 SNPs**.  \n",
    "\n",
    "\n",
    "| SNP / Cell | Cell 1 | Cell 2 | Cell 3 | Cell 4 | Cell 5 | Cell 6 | Cell 7 | Cell 8 | Cell 9 | Cell 10 |\n",
    "|------------|--------|--------|--------|--------|--------|--------|--------|--------|--------|---------|\n",
    "| SNP 1      | (4,1)  | (4,0)  | (5,1)  | (4,0)  | (1,0)  | (4,0)  | (6,0)  | (6,0)  | (5,0)  | (5,0)   |\n",
    "| SNP 2      | (4,0)  | (3,0)  | (7,1)  | (1,1)  | (3,0)  | (2,0)  | (10,0) | (11,0) | (1,0)  | (9,0)   |\n",
    "| SNP 3      | (4,5)  | (11,0) | (4,0)  | (3,0)  | (4,0)  | (3,0)  | (7,0)  | (0,0)  | (2,0)  | (4,0)   |\n",
    "| SNP 4      | (8,0)  | (2,0)  | (6,0)  | (1,0)  | (2,2)  | (3,5)  | (5,3)  | (1,3)  | (2,4)  | (8,0)   |\n",
    "| SNP 5      | (5,0)  | (9,0)  | (4,0)  | (3,0)  | (4,0)  | (3,0)  | (7,0)  | (4,1)  | (4,0)  | (5,0)   |\n",
    "\n",
    "> ℹ️ **Note**: Only the first 10 cells and 5 SNPs are shown here for illustration. The full dataset contains 49 SNPs × 20 cells.\n"
   ]
  },
  {
   "cell_type": "code",
   "execution_count": 8,
   "metadata": {},
   "outputs": [
    {
     "name": "stdout",
     "output_type": "stream",
     "text": [
      "Data preview: (100, 50, 2)\n",
      "Newick of true tree (((((((((15,27),28),12),((17,48),3)),18),31),((((37,7),8),49),2)),(((((11,19),(13,38)),36),10),(((1,35),46),34))),(((((((16,30),45),9),((4,50),29)),(((14,39),(21,22)),43)),(((((24,32),23),42),(20,26)),(((25,44),40),((47,6),41)))),(33,5)));\n",
      "True genotype\n",
      " [[0. 0. 0. ... 0. 0. 0.]\n",
      " [0. 0. 0. ... 0. 0. 0.]\n",
      " [0. 0. 0. ... 0. 0. 0.]\n",
      " ...\n",
      " [1. 1. 1. ... 1. 1. 0.]\n",
      " [0. 0. 0. ... 0. 0. 0.]\n",
      " [0. 0. 0. ... 0. 0. 0.]]\n"
     ]
    }
   ],
   "source": [
    "reads = np.load('data/toy_raw_reads.npy', allow_pickle=True)\n",
    "true_genotype = np.loadtxt('data/true_genotype.txt')\n",
    "with open('data/true_tree.nwk', 'r') as f:\n",
    "    true_tree = f.readline().strip()\n",
    "print('Data preview:', reads.shape)\n",
    "print('Newick of true tree', true_tree)\n",
    "print('True genotype\\n', true_genotype)"
   ]
  },
  {
   "cell_type": "markdown",
   "metadata": {},
   "source": [
    "Calculate the posterior genotype probability.\n"
   ]
  },
  {
   "cell_type": "code",
   "execution_count": 9,
   "metadata": {},
   "outputs": [],
   "source": [
    "prob = s2.probability.genotype_probability(reads, posterior=True)"
   ]
  },
  {
   "cell_type": "markdown",
   "metadata": {},
   "source": [
    "We then proceed to perform inference under three different modes.\n"
   ]
  },
  {
   "cell_type": "code",
   "execution_count": 10,
   "metadata": {},
   "outputs": [],
   "source": [
    "# SPR local search\n",
    "caller_spr = s2.ScisTree2(threads=8)\n",
    "imputed_genotype_spr, tree_spr, likelihood_spr = caller_spr.infer(prob)\n",
    "# NNI local search\n",
    "caller_nni = s2.ScisTree2(nni=True, threads=8)\n",
    "imputed_genotype_nni, tree_nni, likelihood_nni = caller_nni.infer(prob)\n",
    "# NJ\n",
    "caller_nj = s2.ScisTree2(nj=True)\n",
    "tree_nj= caller_nj.infer(prob)\n",
    "imputed_genotype_nj, likelihood_nj = caller_nj.evaluate(prob, tree_nj)"
   ]
  },
  {
   "cell_type": "markdown",
   "metadata": {},
   "source": [
    "Our package also provides several metrics to evaluate results. These metrics include:\n",
    "\n",
    "- **Genotype accuracy**\n",
    "- **Tree accuracy** (defined as 1 minus the normalized Robinson-Foulds distance)\n",
    "- **Ancestor-Descendant Error**\n",
    "- **Different Lineage Error**\n"
   ]
  },
  {
   "cell_type": "code",
   "execution_count": 11,
   "metadata": {},
   "outputs": [
    {
     "data": {
      "text/html": [
       "<div>\n",
       "<style scoped>\n",
       "    .dataframe tbody tr th:only-of-type {\n",
       "        vertical-align: middle;\n",
       "    }\n",
       "\n",
       "    .dataframe tbody tr th {\n",
       "        vertical-align: top;\n",
       "    }\n",
       "\n",
       "    .dataframe thead th {\n",
       "        text-align: right;\n",
       "    }\n",
       "</style>\n",
       "<table border=\"1\" class=\"dataframe\">\n",
       "  <thead>\n",
       "    <tr style=\"text-align: right;\">\n",
       "      <th></th>\n",
       "      <th>Method</th>\n",
       "      <th>Genotype Accuracy</th>\n",
       "      <th>Tree Accuracy</th>\n",
       "      <th>Ancestor-Descendant Error</th>\n",
       "      <th>Different Lineage Error</th>\n",
       "    </tr>\n",
       "  </thead>\n",
       "  <tbody>\n",
       "    <tr>\n",
       "      <th>0</th>\n",
       "      <td>SPR</td>\n",
       "      <td>0.9822</td>\n",
       "      <td>0.212766</td>\n",
       "      <td>0.476311</td>\n",
       "      <td>0.024925</td>\n",
       "    </tr>\n",
       "    <tr>\n",
       "      <th>1</th>\n",
       "      <td>NNI</td>\n",
       "      <td>0.9816</td>\n",
       "      <td>0.191489</td>\n",
       "      <td>0.478338</td>\n",
       "      <td>0.025922</td>\n",
       "    </tr>\n",
       "    <tr>\n",
       "      <th>2</th>\n",
       "      <td>NJ</td>\n",
       "      <td>0.9794</td>\n",
       "      <td>0.170213</td>\n",
       "      <td>0.500380</td>\n",
       "      <td>0.025922</td>\n",
       "    </tr>\n",
       "  </tbody>\n",
       "</table>\n",
       "</div>"
      ],
      "text/plain": [
       "  Method  Genotype Accuracy  Tree Accuracy  Ancestor-Descendant Error  \\\n",
       "0    SPR             0.9822       0.212766                   0.476311   \n",
       "1    NNI             0.9816       0.191489                   0.478338   \n",
       "2     NJ             0.9794       0.170213                   0.500380   \n",
       "\n",
       "   Different Lineage Error  \n",
       "0                 0.024925  \n",
       "1                 0.025922  \n",
       "2                 0.025922  "
      ]
     },
     "execution_count": 11,
     "metadata": {},
     "output_type": "execute_result"
    }
   ],
   "source": [
    "gacc_spr = s2.metric.genotype_accuarcy(true_genotype, imputed_genotype_spr)\n",
    "gacc_nni = s2.metric.genotype_accuarcy(true_genotype, imputed_genotype_nni)\n",
    "gacc_nj = s2.metric.genotype_accuarcy(true_genotype, imputed_genotype_nj)\n",
    "\n",
    "tacc_spr = s2.metric.tree_accuracy(s2.util.from_newick(true_tree), s2.util.from_newick(tree_spr))\n",
    "tacc_nni = s2.metric.tree_accuracy(s2.util.from_newick(true_tree), s2.util.from_newick(tree_nni))\n",
    "tacc_nj = s2.metric.tree_accuracy(s2.util.from_newick(true_tree), s2.util.from_newick(tree_nj))\n",
    "\n",
    "mutation_true = s2.metric.get_ancestor_descendant_pairs(true_genotype)\n",
    "mutations_spr = s2.metric.get_ancestor_descendant_pairs(imputed_genotype_spr)\n",
    "mutations_nni = s2.metric.get_ancestor_descendant_pairs(imputed_genotype_nni)\n",
    "mutations_nj = s2.metric.get_ancestor_descendant_pairs(imputed_genotype_nj)\n",
    "ad_err_spr = s2.metric.ancestor_descendant_error(mutation_true, mutations_spr)\n",
    "ad_err_nni = s2.metric.ancestor_descendant_error(mutation_true, mutations_nni)\n",
    "ad_err_nj = s2.metric.ancestor_descendant_error(mutation_true, mutations_nj)\n",
    "dl_err_spr = s2.metric.different_lineage_error(mutation_true, mutations_spr)\n",
    "dl_err_nni = s2.metric.different_lineage_error(mutation_true, mutations_nni)\n",
    "dl_err_nj = s2.metric.different_lineage_error(mutation_true, mutations_nj)\n",
    "\n",
    "metrics = {\n",
    "    \"Method\": [\"SPR\", \"NNI\", \"NJ\"],\n",
    "    \"Genotype Accuracy\": [gacc_spr, gacc_nni, gacc_nj],\n",
    "    \"Tree Accuracy\": [tacc_spr, tacc_nni, tacc_nj],\n",
    "    \"Ancestor-Descendant Error\": [ad_err_spr, ad_err_nni, ad_err_nj],\n",
    "    \"Different Lineage Error\": [dl_err_spr, dl_err_nni, dl_err_nj]\n",
    "}\n",
    "\n",
    "# Convert to DataFrame\n",
    "df_metrics = pd.DataFrame(metrics)\n",
    "df_metrics"
   ]
  }
 ],
 "metadata": {
  "kernelspec": {
   "display_name": "scistree2",
   "language": "python",
   "name": "scistree2"
  },
  "language_info": {
   "codemirror_mode": {
    "name": "ipython",
    "version": 3
   },
   "file_extension": ".py",
   "mimetype": "text/x-python",
   "name": "python",
   "nbconvert_exporter": "python",
   "pygments_lexer": "ipython3",
   "version": "3.10.18"
  }
 },
 "nbformat": 4,
 "nbformat_minor": 2
}
